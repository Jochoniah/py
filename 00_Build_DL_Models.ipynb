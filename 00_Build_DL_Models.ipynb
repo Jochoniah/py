{
  "nbformat": 4,
  "nbformat_minor": 0,
  "metadata": {
    "colab": {
      "name": "00_Build_DL_Models",
      "provenance": [],
      "collapsed_sections": [],
      "include_colab_link": true
    },
    "kernelspec": {
      "name": "python3",
      "display_name": "Python 3"
    }
  },
  "cells": [
    {
      "cell_type": "markdown",
      "metadata": {
        "id": "view-in-github",
        "colab_type": "text"
      },
      "source": [
        "<a href=\"https://colab.research.google.com/github/Jochoniah/py/blob/master/00_Build_DL_Models.ipynb\" target=\"_parent\"><img src=\"https://colab.research.google.com/assets/colab-badge.svg\" alt=\"Open In Colab\"/></a>"
      ]
    },
    {
      "cell_type": "markdown",
      "metadata": {
        "id": "VqbC5u3GeVEH"
      },
      "source": [
        "© 2021 Zaka AI, Inc. All Rights Reserved"
      ]
    },
    {
      "cell_type": "markdown",
      "metadata": {
        "id": "jzqXONrQeOXw"
      },
      "source": [
        "# Deep Learning Models with Keras\n",
        "\n",
        "**Objective:** In this notebook exercise, you will learn how to build Artficial Neural Networks for deep learning models using the Keras library integrated in TensorFlow as of version 2.0. Keras is a minimalist Python library which made building DL models simple and straightforward.\n",
        "\n",
        "We will be exploring how to build and train a neural network model using both of the Keras Sequential and Functional APIs.\n"
      ]
    },
    {
      "cell_type": "markdown",
      "metadata": {
        "id": "FQH774AbuxJJ"
      },
      "source": [
        "## Defining a Sequential model\n",
        "\n",
        "The first exercise for this colab is building an artificial neural network using the Keras sequential model. \n",
        "The library we need is `tensorflow.keras.models`\n",
        "\n"
      ]
    },
    {
      "cell_type": "code",
      "metadata": {
        "id": "j8nSbmRKeHNU"
      },
      "source": [
        "from tensorflow.keras.models import Sequential\n",
        "from tensorflow.keras.layers import Dense\n",
        "\n",
        "model = Sequential() \n",
        "model.add(Dense(4, input_dim=2, activation='relu')) \n",
        "model.add(Dense(1, activation=\"sigmoid\")) \n",
        "          \n",
        "# print model\n",
        "model.summary()"
      ],
      "execution_count": null,
      "outputs": []
    },
    {
      "cell_type": "markdown",
      "metadata": {
        "id": "u0alJJExu1c9"
      },
      "source": [
        "Reminder: `Dense` refers to a fully connected layer (meaning all the neurons of a layers are connected to all the neurons in the following layer)."
      ]
    },
    {
      "cell_type": "markdown",
      "metadata": {
        "id": "-Slwnllru3_8"
      },
      "source": [
        "This how the ReLU function looks like:\n",
        "\n",
        "![alt text](https://qph.fs.quoracdn.net/main-qimg-9e3b87e175577fe97da51fd1a2b50eac)\n",
        "\n",
        "*source:* https://qph.fs.quoracdn.net/main-qimg-9e3b87e175577fe97da51fd1a2b50eac"
      ]
    },
    {
      "cell_type": "markdown",
      "metadata": {
        "id": "mi94glQ5u6uz"
      },
      "source": [
        "And this is the sigmoid function which squashes values to the interval [0;1]:\n",
        "\n",
        "![alt text](https://qph.fs.quoracdn.net/main-qimg-6b67bea3311c3429bfb34b6b1737fe0c)\n",
        "\n",
        "*source:* https://qph.fs.quoracdn.net/main-qimg-6b67bea3311c3429bfb34b6b1737fe0c"
      ]
    },
    {
      "cell_type": "markdown",
      "metadata": {
        "id": "dBVW-qoPh7Od"
      },
      "source": [
        "## Visualizing the model\n",
        "\n",
        "Using plot_model, Keras allows us to visually portray the artificial network we have built with input layer, hidden layers and an output layer."
      ]
    },
    {
      "cell_type": "code",
      "metadata": {
        "id": "ia5n5YUmfDzE"
      },
      "source": [
        "from keras.utils.vis_utils import plot_model\n",
        "\n",
        "plot_model(model, to_file='model_plot.png', show_shapes=True, show_layer_names=True)"
      ],
      "execution_count": null,
      "outputs": []
    },
    {
      "cell_type": "markdown",
      "metadata": {
        "id": "UVZTAnU7kldM"
      },
      "source": [
        "## Functional API\n",
        "Unlike the sequential model, the functional model allows for complex interactions between layers. As you'll notice, in this model, we create the input layer apart and then link all the layers to one another using brackets ( ) at the end of the definition.\n",
        "\n",
        "We will need two extra libraries on before:\n",
        "* `tensorflow.keras.utils`\n",
        "* `tensorflow.keras.layers`\n",
        "\n",
        "We will also be using plot_model to visualize this functional API model.\n",
        "\n"
      ]
    },
    {
      "cell_type": "code",
      "metadata": {
        "id": "w3BOdjdpkoBG"
      },
      "source": [
        "from keras.utils import plot_model\n",
        "from keras.models import Model\n",
        "from keras.layers import Input\n",
        "from keras.layers import Dense\n",
        "\n",
        "# define input\n",
        "visible = Input(shape=(10,))\n",
        "\n",
        "# connect layers\n",
        "layer1 = Dense(10, activation='relu')(visible)\n",
        "layer2 = Dense(20, activation='relu')(layer1)\n",
        "layer3 = Dense(10, activation='relu')(layer2)\n",
        "layer4 = Dense(1, activation='sigmoid')(layer3)\n",
        "\n",
        "# finally, we create the model\n",
        "model = Model(inputs=visible, outputs=layer4)\n",
        "\n",
        "# summarize layers\n",
        "model.summary()\n",
        "\n",
        "# plot graph\n",
        "plot_model(model, to_file='multilayer_perceptron_graph.png',  show_shapes=True, show_layer_names=True)"
      ],
      "execution_count": null,
      "outputs": []
    },
    {
      "cell_type": "markdown",
      "metadata": {
        "id": "-Cn2GOYfq6N4"
      },
      "source": [
        "## Model training\n",
        "\n",
        "In this code cell, the steps for building, compiling and training the model are described.\n",
        "1. First build the neural network with activation functions\n",
        "2. Compile the model by choosing an optimization algorithm (stochastic gradient descent for this example) and a loss (cost) function to optimize. Since the output neuron is singular with a sigmoid activation function, we will use binary_crossentropy.\n",
        "3. We generated random data just for the sake of describing the way to train an ANN (artificial neural network)\n",
        "4. Train the model using the `fit()` function choosing batch size and epochs.\n",
        "5. Use the trained model to predict on new unseen data.\n",
        "\n",
        "Since this is a random data set, the predicted output is not very meaningful but the purpose is to show the ***compile*** and ***train*** steps when developping a Deep Learning Model."
      ]
    },
    {
      "cell_type": "code",
      "metadata": {
        "id": "yRfi6nViq8Ol"
      },
      "source": [
        "# build model\n",
        "model = Sequential()\n",
        "model.add(Dense(32, activation='relu', input_dim=100))\n",
        "model.add(Dense(1, activation='sigmoid'))\n",
        "\n",
        "# compile model\n",
        "model.compile(optimizer='sgd',\n",
        "              loss='binary_crossentropy', # categorical crossentry, MSE = 0.5(y-y_hat)^2\n",
        "              metrics=['accuracy'])\n",
        "\n",
        "# Generate dummy data\n",
        "import numpy as np\n",
        "data = np.random.random((100000, 100))\n",
        "labels = np.random.randint(2, size=(100000, 1))\n",
        "\n",
        "# Train the model, iterating on the data in batches of 32 samples\n",
        "model.fit(data, labels, epochs=10, batch_size=32)\n",
        "\n",
        "# predict\n",
        "data_example = np.random.random((1, 100))\n",
        "model.predict(data_example)"
      ],
      "execution_count": null,
      "outputs": []
    },
    {
      "cell_type": "markdown",
      "metadata": {
        "id": "0D9yPyzikUb5"
      },
      "source": [
        "# Custom model\n",
        "\n",
        "Let's build this model using both Sequential & Functional APIs. This exercise will help you apply everything we went through in this notebook. Good luck!\n",
        "![alt text](https://miro.medium.com/max/1400/1*3fA77_mLNiJTSgZFhYnU0Q@2x.png)"
      ]
    },
    {
      "cell_type": "code",
      "metadata": {
        "id": "KRRczQwF-32p"
      },
      "source": [
        "# Sequential\n"
      ],
      "execution_count": null,
      "outputs": []
    },
    {
      "cell_type": "code",
      "metadata": {
        "id": "o5EYBtpb-7EN"
      },
      "source": [
        "# Functional API\n"
      ],
      "execution_count": null,
      "outputs": []
    }
  ]
}